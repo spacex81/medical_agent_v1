{
 "cells": [
  {
   "cell_type": "code",
   "execution_count": 0,
   "metadata": {
    "application/vnd.databricks.v1+cell": {
     "cellMetadata": {
      "byteLimit": 2048000,
      "rowLimit": 10000
     },
     "inputWidgets": {},
     "nuid": "536006a6-29c0-41bd-9a45-f347505de916",
     "showTitle": false,
     "tableResultSettingsMap": {},
     "title": ""
    }
   },
   "outputs": [],
   "source": [
    "from pyspark.sql import SparkSession\n",
    "from pyspark.sql.functions import *\n",
    "\n",
    "file_path = '/Volumes/main/default/medical_data_volume/medical_data_complete_unzipped/medical_data_local/drug-easy-info/all_drug_data.json'\n",
    "\n",
    "spark = SparkSession.builder.getOrCreate()\n",
    "\n",
    "# Use multiline option and specify encoding\n",
    "df = spark.read.option(\"multiline\", \"true\").option(\"encoding\", \"UTF-8\").json(file_path)\n",
    "\n",
    "print(\"Schema:\")\n",
    "df.printSchema()"
   ]
  },
  {
   "cell_type": "code",
   "execution_count": 0,
   "metadata": {
    "application/vnd.databricks.v1+cell": {
     "cellMetadata": {
      "byteLimit": 2048000,
      "rowLimit": 10000
     },
     "inputWidgets": {},
     "nuid": "90abdca9-2dea-48cd-9244-4b64ad13176c",
     "showTitle": false,
     "tableResultSettingsMap": {},
     "title": ""
    }
   },
   "outputs": [],
   "source": [
    "# Check record count and basic info\n",
    "total_records = df.count()\n",
    "print(f\"Total records: {total_records}\")\n",
    "\n",
    "# Look at the actual data\n",
    "print(\"\\nFirst 5 records with key fields:\")\n",
    "df.select(\"entpName\", \"itemName\", \"itemSeq\", \"openDe\", \"updateDe\").show(5, truncate=False)\n",
    "\n",
    "# Check for null values in key fields\n",
    "print(\"\\nNull value counts:\")\n",
    "df.select([count(when(col(c).isNull(), c)).alias(c) for c in df.columns]).show()\n",
    "\n",
    "# Show sample of actual content\n",
    "print(\"\\nSample drug information:\")\n",
    "df.select(\"itemName\", \"efcyQesitm\").show(3, truncate=False)"
   ]
  },
  {
   "cell_type": "code",
   "execution_count": 0,
   "metadata": {
    "application/vnd.databricks.v1+cell": {
     "cellMetadata": {
      "byteLimit": 2048000,
      "rowLimit": 10000
     },
     "inputWidgets": {},
     "nuid": "d762e335-455b-4343-a196-5940e427a311",
     "showTitle": false,
     "tableResultSettingsMap": {},
     "title": ""
    }
   },
   "outputs": [],
   "source": [
    "# Define your bronze table name\n",
    "bronze_table_name = \"main.default.drug_easy_info_bronze\"\n",
    "\n",
    "# Write the DataFrame to a Delta table\n",
    "print(f\"Creating bronze table: {bronze_table_name}\")\n",
    "\n",
    "df.write \\\n",
    "  .format(\"delta\") \\\n",
    "  .mode(\"overwrite\") \\\n",
    "  .option(\"overwriteSchema\", \"true\") \\\n",
    "  .saveAsTable(bronze_table_name)\n",
    "\n",
    "print(f\"✅ Successfully created bronze table with {total_records} records\")\n",
    "\n",
    "# Verify the table was created\n",
    "print(f\"\\nVerifying bronze table:\")\n",
    "bronze_df = spark.table(bronze_table_name)\n",
    "print(f\"Records in bronze table: {bronze_df.count()}\")\n",
    "\n",
    "# Show table info\n",
    "print(f\"\\nBronze table schema:\")\n",
    "bronze_df.printSchema()\n",
    "\n",
    "# Show sample data from bronze table\n",
    "print(f\"\\nSample data from bronze table:\")\n",
    "bronze_df.select(\"entpName\", \"itemName\", \"itemSeq\").show(5)"
   ]
  },
  {
   "cell_type": "code",
   "execution_count": 0,
   "metadata": {
    "application/vnd.databricks.v1+cell": {
     "cellMetadata": {
      "byteLimit": 2048000,
      "rowLimit": 10000
     },
     "inputWidgets": {},
     "nuid": "ce34f1d8-0bb7-49e5-8adf-4dd2bbd7c6f4",
     "showTitle": false,
     "tableResultSettingsMap": {},
     "title": ""
    }
   },
   "outputs": [],
   "source": [
    "from pyspark.sql import SparkSession\n",
    "from pyspark.sql.functions import *\n",
    "\n",
    "# Read from the bronze table\n",
    "bronze_table_name = \"main.default.medical_data_bronze\"\n",
    "bronze_df = spark.table(bronze_table_name)\n",
    "\n",
    "print(\"=== BRONZE TABLE OVERVIEW ===\")\n",
    "print(f\"Table: {bronze_table_name}\")\n",
    "print(f\"Total records: {bronze_df.count()}\")\n",
    "\n",
    "print(\"\\n=== TABLE SCHEMA ===\")\n",
    "bronze_df.printSchema()\n",
    "\n",
    "print(\"\\n=== SAMPLE DATA ===\")\n",
    "print(\"First 5 records:\")\n",
    "bronze_df.show(5, truncate=False)\n",
    "\n",
    "print(\"\\n=== KEY COLUMNS SAMPLE ===\")\n",
    "bronze_df.select(\"entpName\", \"itemName\", \"itemSeq\", \"openDe\", \"updateDe\").show(10, truncate=False)\n",
    "\n",
    "print(\"\\n=== DATA QUALITY CHECK ===\")\n",
    "print(\"Null value counts per column:\")\n",
    "null_counts = bronze_df.select([count(when(col(c).isNull(), c)).alias(c) for c in bronze_df.columns])\n",
    "null_counts.show()\n",
    "\n",
    "print(\"\\n=== RECENT DATA ===\")\n",
    "print(\"Most recently updated drugs:\")\n",
    "bronze_df.orderBy(col(\"updateDe\").desc()).select(\"itemName\", \"entpName\", \"updateDe\").show(5, truncate=False)\n",
    "\n",
    "print(\"\\n=== COMPANY ANALYSIS ===\")\n",
    "print(\"Top companies by product count:\")\n",
    "bronze_df.groupBy(\"entpName\").count().orderBy(col(\"count\").desc()).show(10)\n",
    "\n",
    "print(\"\\n=== SAMPLE DRUG DETAILS ===\")\n",
    "print(\"Drug efficacy information (first 3):\")\n",
    "bronze_df.select(\"itemName\", \"efcyQesitm\").show(3, truncate=False)\n",
    "\n",
    "# If you added metadata columns, show them\n",
    "if \"ingestion_timestamp\" in bronze_df.columns:\n",
    "    print(\"\\n=== METADATA INFO ===\")\n",
    "    bronze_df.select(\"ingestion_timestamp\", \"source_file\", \"data_source\").distinct().show(truncate=False)"
   ]
  },
  {
   "cell_type": "code",
   "execution_count": 0,
   "metadata": {
    "application/vnd.databricks.v1+cell": {
     "cellMetadata": {},
     "inputWidgets": {},
     "nuid": "a88dd9ee-769b-402a-a88b-2405e5a4fbf7",
     "showTitle": false,
     "tableResultSettingsMap": {},
     "title": ""
    }
   },
   "outputs": [],
   "source": []
  }
 ],
 "metadata": {
  "application/vnd.databricks.v1+notebook": {
   "computePreferences": null,
   "dashboards": [],
   "environmentMetadata": {
    "base_environment": "",
    "environment_version": "2"
   },
   "inputWidgetPreferences": null,
   "language": "python",
   "notebookMetadata": {
    "pythonIndentUnit": 4
   },
   "notebookName": "Bronze-Drug Easy Information",
   "widgets": {}
  },
  "language_info": {
   "name": "python"
  }
 },
 "nbformat": 4,
 "nbformat_minor": 0
}
