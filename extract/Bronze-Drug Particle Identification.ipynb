{
 "cells": [
  {
   "cell_type": "code",
   "execution_count": 0,
   "metadata": {
    "application/vnd.databricks.v1+cell": {
     "cellMetadata": {
      "byteLimit": 2048000,
      "rowLimit": 10000
     },
     "inputWidgets": {},
     "nuid": "523f0135-5a42-4495-ae29-1780fd2bd3c3",
     "showTitle": false,
     "tableResultSettingsMap": {},
     "title": ""
    }
   },
   "outputs": [],
   "source": [
    "from pyspark.sql import SparkSession\n",
    "from pyspark.sql.functions import *\n",
    "\n",
    "file_path = '/Volumes/main/default/medical_data_volume/medical_data_complete_unzipped/medical_data_local/drug-particle-identification-info/all_drug_data.json'\n",
    "\n",
    "spark = SparkSession.builder.getOrCreate()\n",
    "\n",
    "# Use multiline option and specify encoding\n",
    "df = spark.read.option(\"multiline\", \"true\").option(\"encoding\", \"UTF-8\").json(file_path)\n",
    "\n",
    "print(\"Schema:\")\n",
    "df.printSchema()"
   ]
  },
  {
   "cell_type": "code",
   "execution_count": 0,
   "metadata": {
    "application/vnd.databricks.v1+cell": {
     "cellMetadata": {
      "byteLimit": 2048000,
      "rowLimit": 10000
     },
     "inputWidgets": {},
     "nuid": "b5126536-1ac9-45ab-918c-7547d2bcade3",
     "showTitle": false,
     "tableResultSettingsMap": {},
     "title": ""
    }
   },
   "outputs": [],
   "source": [
    "# Get basic dataset information\n",
    "print(\"Dataset Overview:\")\n",
    "print(f\"Total number of records: {df.count()}\")\n",
    "print(f\"Number of columns: {len(df.columns)}\")\n",
    "\n",
    "# Show first few records\n",
    "print(\"\\nFirst 5 records:\")\n",
    "df.show(5, truncate=False)\n",
    "\n",
    "# Get summary statistics for key columns\n",
    "print(\"\\nSummary statistics:\")\n",
    "df.describe().show()\n",
    "\n",
    "# Check for null values in each column\n",
    "print(\"\\nNull value counts per column:\")\n",
    "null_counts = df.select([count(when(col(c).isNull(), c)).alias(c) for c in df.columns])\n",
    "null_counts.show()\n",
    "\n",
    "# Explore categorical columns - let's look at some key ones\n",
    "print(\"\\nUnique values in key categorical columns:\")\n",
    "\n",
    "# Drug classifications\n",
    "print(\"ETC_OTC_NAME (Prescription/OTC status):\")\n",
    "df.groupBy(\"ETC_OTC_NAME\").count().orderBy(desc(\"count\")).show()\n",
    "\n",
    "print(\"DRUG_SHAPE (Drug shapes):\")\n",
    "df.groupBy(\"DRUG_SHAPE\").count().orderBy(desc(\"count\")).show(20)\n",
    "\n",
    "print(\"COLOR_CLASS1 (Primary colors):\")\n",
    "df.groupBy(\"COLOR_CLASS1\").count().orderBy(desc(\"count\")).show(20)\n",
    "\n",
    "print(\"FORM_CODE_NAME (Form types):\")\n",
    "df.groupBy(\"FORM_CODE_NAME\").count().orderBy(desc(\"count\")).show()\n",
    "\n",
    "# Check for duplicates\n",
    "print(f\"\\nTotal records: {df.count()}\")\n",
    "print(f\"Distinct records: {df.distinct().count()}\")\n",
    "print(f\"Duplicate records: {df.count() - df.distinct().count()}\")\n",
    "\n",
    "# Look at some specific interesting columns\n",
    "print(\"\\nSample of drug names and companies:\")\n",
    "df.select(\"ITEM_NAME\", \"ENTP_NAME\", \"ITEM_ENG_NAME\").show(10, truncate=False)\n",
    "\n",
    "# Check date ranges\n",
    "print(\"\\nDate information:\")\n",
    "df.select(\"ITEM_PERMIT_DATE\", \"CHANGE_DATE\", \"IMG_REGIST_TS\").show(5, truncate=False)"
   ]
  },
  {
   "cell_type": "code",
   "execution_count": 0,
   "metadata": {
    "application/vnd.databricks.v1+cell": {
     "cellMetadata": {
      "byteLimit": 2048000,
      "rowLimit": 10000
     },
     "inputWidgets": {},
     "nuid": "157de69f-22e7-4999-bfdd-58a96d59442f",
     "showTitle": false,
     "tableResultSettingsMap": {},
     "title": ""
    }
   },
   "outputs": [],
   "source": [
    "# Define your bronze table name\n",
    "bronze_table_name = \"main.default.drug_particle_identification_bronze\"\n",
    "\n",
    "# Write the DataFrame to a Delta table\n",
    "print(f\"Creating bronze table: {bronze_table_name}\")\n",
    "\n",
    "df.write \\\n",
    "  .format(\"delta\") \\\n",
    "  .mode(\"overwrite\") \\\n",
    "  .option(\"overwriteSchema\", \"true\") \\\n",
    "  .saveAsTable(bronze_table_name)\n",
    "\n",
    "# Get total records count\n",
    "total_records = df.count()\n",
    "print(f\"✅ Successfully created bronze table with {total_records} records\")\n",
    "\n",
    "# Verify the table was created\n",
    "print(f\"\\nVerifying bronze table:\")\n",
    "bronze_df = spark.table(bronze_table_name)\n",
    "print(f\"Records in bronze table: {bronze_df.count()}\")\n",
    "\n",
    "# Show table info\n",
    "print(f\"\\nBronze table schema:\")\n",
    "bronze_df.printSchema()\n",
    "\n",
    "# Show sample data from bronze table\n",
    "print(f\"\\nSample data from bronze table:\")\n",
    "bronze_df.select(\"ENTP_NAME\", \"ITEM_NAME\", \"ITEM_SEQ\", \"DRUG_SHAPE\", \"COLOR_CLASS1\").show(5, truncate=False)"
   ]
  },
  {
   "cell_type": "markdown",
   "metadata": {
    "application/vnd.databricks.v1+cell": {
     "cellMetadata": {},
     "inputWidgets": {},
     "nuid": "93b7f17e-fc99-4089-9d97-c0f3e31e8705",
     "showTitle": false,
     "tableResultSettingsMap": {},
     "title": ""
    }
   },
   "source": [
    "Bronze Table Explore"
   ]
  },
  {
   "cell_type": "code",
   "execution_count": 0,
   "metadata": {
    "application/vnd.databricks.v1+cell": {
     "cellMetadata": {
      "byteLimit": 2048000,
      "rowLimit": 10000
     },
     "inputWidgets": {},
     "nuid": "a9b799a6-1e25-4359-a48f-d99beb6472d1",
     "showTitle": false,
     "tableResultSettingsMap": {},
     "title": ""
    }
   },
   "outputs": [],
   "source": [
    "# Load the bronze table\n",
    "bronze_df = spark.table(\"main.default.drug_particle_identification_bronze\")\n",
    "\n",
    "print(\"=== BASIC TABLE INFO ===\")\n",
    "print(f\"Total records: {bronze_df.count()}\")\n",
    "print(f\"Total columns: {len(bronze_df.columns)}\")\n",
    "\n",
    "print(\"\\n=== COLUMN NAMES ===\")\n",
    "for i, col in enumerate(bronze_df.columns, 1):\n",
    "    print(f\"{i:2d}. {col}\")\n",
    "\n",
    "print(\"\\n=== SAMPLE RECORDS ===\")\n",
    "bronze_df.show(5, truncate=False)\n",
    "\n",
    "print(\"\\n=== DATA QUALITY CHECK - NULL VALUES ===\")\n",
    "from pyspark.sql.functions import col, sum as spark_sum, when, isnan, isnull\n",
    "\n",
    "# Check for null/empty values in key columns\n",
    "key_columns = [\"ITEM_NAME\", \"ENTP_NAME\", \"ITEM_SEQ\", \"DRUG_SHAPE\", \"COLOR_CLASS1\"]\n",
    "null_counts = []\n",
    "\n",
    "for column in key_columns:\n",
    "    null_count = bronze_df.select(\n",
    "        spark_sum(\n",
    "            when(col(column).isNull() | (col(column) == \"\") | (col(column) == \"null\"), 1).otherwise(0)\n",
    "        ).alias(\"null_count\")\n",
    "    ).collect()[0][\"null_count\"]\n",
    "    null_counts.append((column, null_count))\n",
    "    \n",
    "print(\"Column Name          | Null/Empty Count\")\n",
    "print(\"-\" * 40)\n",
    "for col_name, null_count in null_counts:\n",
    "    print(f\"{col_name:<20} | {null_count}\")\n",
    "\n",
    "print(\"\\n=== UNIQUE VALUES IN KEY CATEGORICAL COLUMNS ===\")\n",
    "\n",
    "# Drug shapes\n",
    "print(\"Drug Shapes:\")\n",
    "bronze_df.select(\"DRUG_SHAPE\").filter(col(\"DRUG_SHAPE\").isNotNull() & (col(\"DRUG_SHAPE\") != \"\")).distinct().show(20, truncate=False)\n",
    "\n",
    "# Color classes\n",
    "print(\"\\nPrimary Colors (COLOR_CLASS1):\")\n",
    "bronze_df.select(\"COLOR_CLASS1\").filter(col(\"COLOR_CLASS1\").isNotNull() & (col(\"COLOR_CLASS1\") != \"\")).distinct().show(20, truncate=False)\n",
    "\n",
    "print(\"\\nSecondary Colors (COLOR_CLASS2):\")\n",
    "bronze_df.select(\"COLOR_CLASS2\").filter(col(\"COLOR_CLASS2\").isNotNull() & (col(\"COLOR_CLASS2\") != \"\")).distinct().show(20, truncate=False)\n",
    "\n",
    "print(\"\\n=== TOP ENTERPRISES BY DRUG COUNT ===\")\n",
    "bronze_df.groupBy(\"ENTP_NAME\") \\\n",
    "    .count() \\\n",
    "    .orderBy(col(\"count\").desc()) \\\n",
    "    .show(10, truncate=False)\n",
    "\n",
    "print(\"\\n=== FORM CODE DISTRIBUTION ===\")\n",
    "bronze_df.groupBy(\"FORM_CODE_NAME\") \\\n",
    "    .count() \\\n",
    "    .orderBy(col(\"count\").desc()) \\\n",
    "    .show(10, truncate=False)\n",
    "\n",
    "print(\"\\n=== ETC/OTC DISTRIBUTION ===\")\n",
    "bronze_df.groupBy(\"ETC_OTC_NAME\") \\\n",
    "    .count() \\\n",
    "    .orderBy(col(\"count\").desc()) \\\n",
    "    .show(10, truncate=False)\n",
    "\n",
    "print(\"\\n=== SAMPLE DETAILED RECORDS ===\")\n",
    "print(\"Let's look at some complete records with interesting characteristics:\")\n",
    "\n",
    "# Show records with marking codes\n",
    "bronze_df.select(\n",
    "    \"ITEM_NAME\", \n",
    "    \"ENTP_NAME\", \n",
    "    \"DRUG_SHAPE\", \n",
    "    \"COLOR_CLASS1\", \n",
    "    \"MARK_CODE_FRONT\", \n",
    "    \"MARK_CODE_BACK\",\n",
    "    \"PRINT_FRONT\",\n",
    "    \"PRINT_BACK\"\n",
    ").filter(\n",
    "    (col(\"MARK_CODE_FRONT\").isNotNull() & (col(\"MARK_CODE_FRONT\") != \"\")) |\n",
    "    (col(\"MARK_CODE_BACK\").isNotNull() & (col(\"MARK_CODE_BACK\") != \"\"))\n",
    ").show(5, truncate=False)\n",
    "\n",
    "print(\"\\n=== IMAGE DATA AVAILABILITY ===\")\n",
    "image_stats = bronze_df.select(\n",
    "    spark_sum(when(col(\"ITEM_IMAGE\").isNotNull() & (col(\"ITEM_IMAGE\") != \"\"), 1).otherwise(0)).alias(\"has_item_image\"),\n",
    "    spark_sum(when(col(\"MARK_CODE_FRONT_IMG\").isNotNull() & (col(\"MARK_CODE_FRONT_IMG\") != \"\"), 1).otherwise(0)).alias(\"has_front_mark_image\"),\n",
    "    spark_sum(when(col(\"MARK_CODE_BACK_IMG\").isNotNull() & (col(\"MARK_CODE_BACK_IMG\") != \"\"), 1).otherwise(0)).alias(\"has_back_mark_image\")\n",
    ").collect()[0]\n",
    "\n",
    "total_records = bronze_df.count()\n",
    "print(f\"Records with item images: {image_stats['has_item_image']} ({image_stats['has_item_image']/total_records*100:.1f}%)\")\n",
    "print(f\"Records with front mark images: {image_stats['has_front_mark_image']} ({image_stats['has_front_mark_image']/total_records*100:.1f}%)\")\n",
    "print(f\"Records with back mark images: {image_stats['has_back_mark_image']} ({image_stats['has_back_mark_image']/total_records*100:.1f}%)\")"
   ]
  }
 ],
 "metadata": {
  "application/vnd.databricks.v1+notebook": {
   "computePreferences": {
    "hardware": {
     "accelerator": null,
     "gpuPoolId": null,
     "memory": null
    }
   },
   "dashboards": [],
   "environmentMetadata": {
    "base_environment": "",
    "environment_version": "2"
   },
   "inputWidgetPreferences": null,
   "language": "python",
   "notebookMetadata": {
    "pythonIndentUnit": 4
   },
   "notebookName": "Bronze-Drug Particle Identification",
   "widgets": {}
  },
  "language_info": {
   "name": "python"
  }
 },
 "nbformat": 4,
 "nbformat_minor": 0
}
